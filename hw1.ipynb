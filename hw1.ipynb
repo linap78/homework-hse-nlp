{
 "cells": [
  {
   "cell_type": "markdown",
   "id": "6f746c6c",
   "metadata": {},
   "source": [
    "#### Краулер"
   ]
  },
  {
   "cell_type": "markdown",
   "id": "7eac3186",
   "metadata": {},
   "source": [
    "Собираем отзывы на Майнкрафт на metacrics"
   ]
  },
  {
   "cell_type": "code",
   "execution_count": 142,
   "id": "74eb70c9",
   "metadata": {},
   "outputs": [],
   "source": [
    "import requests\n",
    "import time\n",
    "import random\n",
    "from fake_useragent import UserAgent\n",
    "from bs4 import BeautifulSoup\n",
    "\n",
    "positive = []\n",
    "negative = []\n",
    "\n",
    "session = requests.session()\n",
    "\n",
    "ua = UserAgent(verify_ssl=False)\n",
    "headers = {\"User-Agent\": ua.random}\n",
    "\n",
    "random.uniform(1, 3)\n",
    "\n",
    "for num in range(19):\n",
    "    for _ in range(5):\n",
    "        response = session.get(f\"https://www.metacritic.com/game/pc/minecraft/user-reviews?page={num}\", headers = headers)\n",
    "        time.sleep(random.uniform(1.1, 5.2))\n",
    "\n",
    "    page = response.text\n",
    "    soup = BeautifulSoup(page, \"html.parser\")\n",
    "    page_text = soup.find_all(\"div\", {\"class\": \"review_section\"})\n",
    "\n",
    "    for i in page_text:\n",
    "        try: # избегаем ошибки None has no attribute text, когда встречаем смешанные отзывы\n",
    "            if i.find(\"div\", {\"class\": \"metascore_w user medium game positive indiv\"}):\n",
    "                try:\n",
    "                    positive.append(i.find(\"span\", {\"class\": \"blurb blurb_expanded\"}).text) # если есть полная версия отзыва, пытаемся скачать её\n",
    "                except:\n",
    "                    positive.append(i.find(\"div\", {\"class\": \"review_body\"}).text)\n",
    "            elif i.find(\"div\", {\"class\": \"metascore_w user medium game negative indiv\"}):\n",
    "                try:\n",
    "                    negative.append(i.find(\"span\", {\"class\": \"blurb blurb_expanded\"}).text) # если есть полная версия отзыва, пытаемся скачать её\n",
    "                except:\n",
    "                    negative.append(i.find(\"div\", {\"class\": \"review_body\"}).text)\n",
    "        except:\n",
    "            continue"
   ]
  },
  {
   "cell_type": "markdown",
   "id": "f9684f09",
   "metadata": {},
   "source": [
    "#### Уравниваем кол-во отзывов, откладывыем по 10 из каждого списка на тест"
   ]
  },
  {
   "cell_type": "code",
   "execution_count": 143,
   "id": "a061da3a",
   "metadata": {},
   "outputs": [],
   "source": [
    "positive = positive[:len(negative)] # уравниваем кол-во текстов"
   ]
  },
  {
   "cell_type": "code",
   "execution_count": 144,
   "id": "e34ef184",
   "metadata": {},
   "outputs": [],
   "source": [
    "test = {}\n",
    "for i in range(-1, -11, -1):\n",
    "    test[positive.pop(i)] = \"positive\"\n",
    "    test[negative.pop(i)] = \"negative\""
   ]
  },
  {
   "cell_type": "markdown",
   "id": "0fe07068",
   "metadata": {},
   "source": [
    "#### Предобработка с помощью spaCy"
   ]
  },
  {
   "cell_type": "code",
   "execution_count": 145,
   "id": "21315a3b",
   "metadata": {},
   "outputs": [
    {
     "name": "stderr",
     "output_type": "stream",
     "text": [
      "\"-m\" ­Ґ пў«пҐвбп ў­гваҐ­­Ґ© Ё«Ё ў­Ґи­Ґ©\n",
      "Є®¬ ­¤®©, ЁбЇ®«­пҐ¬®© Їа®Ја ¬¬®© Ё«Ё Ї ЄҐв­л¬ д ©«®¬.\n",
      "\"-m\" ­Ґ пў«пҐвбп ў­гваҐ­­Ґ© Ё«Ё ў­Ґи­Ґ©\n",
      "Є®¬ ­¤®©, ЁбЇ®«­пҐ¬®© Їа®Ја ¬¬®© Ё«Ё Ї ЄҐв­л¬ д ©«®¬.\n"
     ]
    },
    {
     "name": "stdout",
     "output_type": "stream",
     "text": [
      "Collecting en-core-web-sm==3.4.0\n",
      "  Downloading https://github.com/explosion/spacy-models/releases/download/en_core_web_sm-3.4.0/en_core_web_sm-3.4.0-py3-none-any.whl (12.8 MB)\n",
      "     ---------------------------------------- 12.8/12.8 MB 2.8 MB/s eta 0:00:00\n",
      "Requirement already satisfied: spacy<3.5.0,>=3.4.0 in c:\\users\\lenovo\\appdata\\local\\programs\\python\\python310\\lib\\site-packages (from en-core-web-sm==3.4.0) (3.4.1)\n",
      "Requirement already satisfied: murmurhash<1.1.0,>=0.28.0 in c:\\users\\lenovo\\appdata\\local\\programs\\python\\python310\\lib\\site-packages (from spacy<3.5.0,>=3.4.0->en-core-web-sm==3.4.0) (1.0.8)\n",
      "Requirement already satisfied: setuptools in c:\\users\\lenovo\\appdata\\local\\programs\\python\\python310\\lib\\site-packages (from spacy<3.5.0,>=3.4.0->en-core-web-sm==3.4.0) (58.1.0)\n",
      "Requirement already satisfied: preshed<3.1.0,>=3.0.2 in c:\\users\\lenovo\\appdata\\local\\programs\\python\\python310\\lib\\site-packages (from spacy<3.5.0,>=3.4.0->en-core-web-sm==3.4.0) (3.0.7)\n",
      "Requirement already satisfied: catalogue<2.1.0,>=2.0.6 in c:\\users\\lenovo\\appdata\\local\\programs\\python\\python310\\lib\\site-packages (from spacy<3.5.0,>=3.4.0->en-core-web-sm==3.4.0) (2.0.8)\n",
      "Requirement already satisfied: thinc<8.2.0,>=8.1.0 in c:\\users\\lenovo\\appdata\\local\\programs\\python\\python310\\lib\\site-packages (from spacy<3.5.0,>=3.4.0->en-core-web-sm==3.4.0) (8.1.1)\n",
      "Requirement already satisfied: pathy>=0.3.5 in c:\\users\\lenovo\\appdata\\local\\programs\\python\\python310\\lib\\site-packages (from spacy<3.5.0,>=3.4.0->en-core-web-sm==3.4.0) (0.6.2)\n",
      "Requirement already satisfied: jinja2 in c:\\users\\lenovo\\appdata\\local\\programs\\python\\python310\\lib\\site-packages (from spacy<3.5.0,>=3.4.0->en-core-web-sm==3.4.0) (3.1.2)\n",
      "Requirement already satisfied: tqdm<5.0.0,>=4.38.0 in c:\\users\\lenovo\\appdata\\local\\programs\\python\\python310\\lib\\site-packages (from spacy<3.5.0,>=3.4.0->en-core-web-sm==3.4.0) (4.64.0)\n",
      "Requirement already satisfied: langcodes<4.0.0,>=3.2.0 in c:\\users\\lenovo\\appdata\\local\\programs\\python\\python310\\lib\\site-packages (from spacy<3.5.0,>=3.4.0->en-core-web-sm==3.4.0) (3.3.0)\n",
      "Requirement already satisfied: typer<0.5.0,>=0.3.0 in c:\\users\\lenovo\\appdata\\local\\programs\\python\\python310\\lib\\site-packages (from spacy<3.5.0,>=3.4.0->en-core-web-sm==3.4.0) (0.4.2)\n",
      "Requirement already satisfied: spacy-legacy<3.1.0,>=3.0.9 in c:\\users\\lenovo\\appdata\\local\\programs\\python\\python310\\lib\\site-packages (from spacy<3.5.0,>=3.4.0->en-core-web-sm==3.4.0) (3.0.10)\n",
      "Requirement already satisfied: spacy-loggers<2.0.0,>=1.0.0 in c:\\users\\lenovo\\appdata\\local\\programs\\python\\python310\\lib\\site-packages (from spacy<3.5.0,>=3.4.0->en-core-web-sm==3.4.0) (1.0.3)\n",
      "Requirement already satisfied: srsly<3.0.0,>=2.4.3 in c:\\users\\lenovo\\appdata\\local\\programs\\python\\python310\\lib\\site-packages (from spacy<3.5.0,>=3.4.0->en-core-web-sm==3.4.0) (2.4.4)\n",
      "Requirement already satisfied: cymem<2.1.0,>=2.0.2 in c:\\users\\lenovo\\appdata\\local\\programs\\python\\python310\\lib\\site-packages (from spacy<3.5.0,>=3.4.0->en-core-web-sm==3.4.0) (2.0.6)\n",
      "Requirement already satisfied: requests<3.0.0,>=2.13.0 in c:\\users\\lenovo\\appdata\\local\\programs\\python\\python310\\lib\\site-packages (from spacy<3.5.0,>=3.4.0->en-core-web-sm==3.4.0) (2.27.1)\n",
      "Requirement already satisfied: numpy>=1.15.0 in c:\\users\\lenovo\\appdata\\local\\programs\\python\\python310\\lib\\site-packages (from spacy<3.5.0,>=3.4.0->en-core-web-sm==3.4.0) (1.23.1)\n",
      "Requirement already satisfied: wasabi<1.1.0,>=0.9.1 in c:\\users\\lenovo\\appdata\\local\\programs\\python\\python310\\lib\\site-packages (from spacy<3.5.0,>=3.4.0->en-core-web-sm==3.4.0) (0.10.1)\n",
      "Requirement already satisfied: pydantic!=1.8,!=1.8.1,<1.10.0,>=1.7.4 in c:\\users\\lenovo\\appdata\\local\\programs\\python\\python310\\lib\\site-packages (from spacy<3.5.0,>=3.4.0->en-core-web-sm==3.4.0) (1.8.2)\n",
      "Requirement already satisfied: packaging>=20.0 in c:\\users\\lenovo\\appdata\\local\\programs\\python\\python310\\lib\\site-packages (from spacy<3.5.0,>=3.4.0->en-core-web-sm==3.4.0) (21.3)\n",
      "Requirement already satisfied: pyparsing!=3.0.5,>=2.0.2 in c:\\users\\lenovo\\appdata\\local\\programs\\python\\python310\\lib\\site-packages (from packaging>=20.0->spacy<3.5.0,>=3.4.0->en-core-web-sm==3.4.0) (3.0.9)\n",
      "Requirement already satisfied: smart-open<6.0.0,>=5.2.1 in c:\\users\\lenovo\\appdata\\local\\programs\\python\\python310\\lib\\site-packages (from pathy>=0.3.5->spacy<3.5.0,>=3.4.0->en-core-web-sm==3.4.0) (5.2.1)\n",
      "Requirement already satisfied: typing-extensions>=3.7.4.3 in c:\\users\\lenovo\\appdata\\local\\programs\\python\\python310\\lib\\site-packages (from pydantic!=1.8,!=1.8.1,<1.10.0,>=1.7.4->spacy<3.5.0,>=3.4.0->en-core-web-sm==3.4.0) (4.3.0)\n",
      "Requirement already satisfied: certifi>=2017.4.17 in c:\\users\\lenovo\\appdata\\local\\programs\\python\\python310\\lib\\site-packages (from requests<3.0.0,>=2.13.0->spacy<3.5.0,>=3.4.0->en-core-web-sm==3.4.0) (2022.6.15)\n",
      "Requirement already satisfied: idna<4,>=2.5 in c:\\users\\lenovo\\appdata\\local\\programs\\python\\python310\\lib\\site-packages (from requests<3.0.0,>=2.13.0->spacy<3.5.0,>=3.4.0->en-core-web-sm==3.4.0) (3.3)\n",
      "Requirement already satisfied: urllib3<1.27,>=1.21.1 in c:\\users\\lenovo\\appdata\\local\\programs\\python\\python310\\lib\\site-packages (from requests<3.0.0,>=2.13.0->spacy<3.5.0,>=3.4.0->en-core-web-sm==3.4.0) (1.26.10)\n",
      "Requirement already satisfied: charset-normalizer~=2.0.0 in c:\\users\\lenovo\\appdata\\local\\programs\\python\\python310\\lib\\site-packages (from requests<3.0.0,>=2.13.0->spacy<3.5.0,>=3.4.0->en-core-web-sm==3.4.0) (2.0.12)\n",
      "Requirement already satisfied: confection<1.0.0,>=0.0.1 in c:\\users\\lenovo\\appdata\\local\\programs\\python\\python310\\lib\\site-packages (from thinc<8.2.0,>=8.1.0->spacy<3.5.0,>=3.4.0->en-core-web-sm==3.4.0) (0.0.1)\n",
      "Requirement already satisfied: blis<0.10.0,>=0.7.8 in c:\\users\\lenovo\\appdata\\local\\programs\\python\\python310\\lib\\site-packages (from thinc<8.2.0,>=8.1.0->spacy<3.5.0,>=3.4.0->en-core-web-sm==3.4.0) (0.9.1)\n",
      "Requirement already satisfied: colorama in c:\\users\\lenovo\\appdata\\local\\programs\\python\\python310\\lib\\site-packages (from tqdm<5.0.0,>=4.38.0->spacy<3.5.0,>=3.4.0->en-core-web-sm==3.4.0) (0.4.5)\n",
      "Requirement already satisfied: click<9.0.0,>=7.1.1 in c:\\users\\lenovo\\appdata\\local\\programs\\python\\python310\\lib\\site-packages (from typer<0.5.0,>=0.3.0->spacy<3.5.0,>=3.4.0->en-core-web-sm==3.4.0) (8.1.3)\n",
      "Requirement already satisfied: MarkupSafe>=2.0 in c:\\users\\lenovo\\appdata\\local\\programs\\python\\python310\\lib\\site-packages (from jinja2->spacy<3.5.0,>=3.4.0->en-core-web-sm==3.4.0) (2.1.1)\n",
      "[+] Download and installation successful\n",
      "You can now load the package via spacy.load('en_core_web_sm')\n"
     ]
    },
    {
     "name": "stderr",
     "output_type": "stream",
     "text": [
      "WARNING: You are using pip version 22.0.4; however, version 22.2.2 is available.\n",
      "You should consider upgrading via the 'C:\\Users\\Lenovo\\AppData\\Local\\Programs\\Python\\Python310\\python.exe -m pip install --upgrade pip' command.\n"
     ]
    }
   ],
   "source": [
    "!-m pip install spacy\n",
    "!-m spacy download en\n",
    "!python -m spacy download en_core_web_sm\n",
    "import spacy\n",
    "\n",
    "nlp = spacy.load(\"en_core_web_sm\")\n",
    "lemmatizer = nlp.get_pipe(\"lemmatizer\")"
   ]
  },
  {
   "cell_type": "code",
   "execution_count": 146,
   "id": "5d7324ad",
   "metadata": {},
   "outputs": [],
   "source": [
    "def preprocessing(list): # мы работаем со списками, удобнее написать функцию, на вход которой можно сразу подать список\n",
    "    preprocessed_words = []\n",
    "    for text in list:\n",
    "        preprocessed_text = nlp(text.lower()) # здесь текст уже делится по предложениям и токенизируется\n",
    "        for word in [token.lemma_ for token in preprocessed_text if not token.is_punct]:\n",
    "            if word.isalpha:\n",
    "                preprocessed_words.append(word)\n",
    "    return preprocessed_words"
   ]
  },
  {
   "cell_type": "markdown",
   "id": "460c09f5",
   "metadata": {},
   "source": [
    "Считаем кол-во слов в каждом списке, убираем те, которые встречаются менее трёх раз"
   ]
  },
  {
   "cell_type": "code",
   "execution_count": 147,
   "id": "86897b6a",
   "metadata": {},
   "outputs": [],
   "source": [
    "from collections import Counter"
   ]
  },
  {
   "cell_type": "code",
   "execution_count": 148,
   "id": "3446240f",
   "metadata": {},
   "outputs": [],
   "source": [
    "def deleting_unpopular(preprocessed_list):\n",
    "    word_list = []\n",
    "    cnt_dict = Counter(preprocessing(preprocessed_list))\n",
    "    for i in cnt_dict:\n",
    "        if cnt_dict[i] > 2:\n",
    "            word_list.append(i)\n",
    "    return set(word_list)"
   ]
  },
  {
   "cell_type": "code",
   "execution_count": 149,
   "id": "5337ddc5",
   "metadata": {},
   "outputs": [],
   "source": [
    "positive_set = deleting_unpopular(positive)"
   ]
  },
  {
   "cell_type": "code",
   "execution_count": 150,
   "id": "3a86b906",
   "metadata": {},
   "outputs": [],
   "source": [
    "negative_set = deleting_unpopular(negative)"
   ]
  },
  {
   "cell_type": "markdown",
   "id": "6d8fdb35",
   "metadata": {},
   "source": [
    "Удаляем слова, которые есть и в позитивных, и в негативных отзывах"
   ]
  },
  {
   "cell_type": "code",
   "execution_count": 151,
   "id": "0e7e6776",
   "metadata": {},
   "outputs": [],
   "source": [
    "intersection = positive_set.intersection(negative_set)\n",
    "positive_set.difference_update(intersection)\n",
    "negative_set.difference_update(intersection)"
   ]
  },
  {
   "cell_type": "markdown",
   "id": "82b453d7",
   "metadata": {},
   "source": [
    "Функция для определения тональности:"
   ]
  },
  {
   "cell_type": "code",
   "execution_count": 152,
   "id": "4a9b83c7",
   "metadata": {},
   "outputs": [],
   "source": [
    "freq_lists = {}\n",
    "\n",
    "freq_lists[\"positive\"] = positive_clean\n",
    "freq_lists[\"negative\"] = negative_dict"
   ]
  },
  {
   "cell_type": "code",
   "execution_count": 159,
   "id": "89f7528c",
   "metadata": {},
   "outputs": [],
   "source": [
    "def simple_sent_analysis(freq_lists, text):\n",
    "    preprocessed_review_list = []\n",
    "    preprocessed_review = nlp(text.lower()) # здесь текст уже делится по предложениям и токенизируется\n",
    "    for word in [token.lemma_ for token in preprocessed_review if not token.is_punct]:\n",
    "        if word.isalpha:\n",
    "            preprocessed_review_list.append(word)\n",
    "    counts = Counter()\n",
    "    for tone, freq_list in freq_lists.items():\n",
    "        freq_list = Counter(freq_list)\n",
    "        for word in preprocessed_review_list:\n",
    "            counts[tone] += int(freq_list[word] > 0)\n",
    "    return counts.most_common()[0][0]"
   ]
  },
  {
   "cell_type": "markdown",
   "id": "8f3a0f3e",
   "metadata": {},
   "source": [
    "Запущенная функция + тональность отзыва:"
   ]
  },
  {
   "cell_type": "code",
   "execution_count": 160,
   "id": "c36a2fdb",
   "metadata": {},
   "outputs": [
    {
     "name": "stdout",
     "output_type": "stream",
     "text": [
      "negative positive\n",
      "negative negative\n",
      "negative positive\n",
      "positive negative\n",
      "positive positive\n",
      "negative negative\n",
      "positive positive\n",
      "negative negative\n",
      "negative positive\n",
      "positive negative\n",
      "positive positive\n",
      "negative negative\n",
      "positive positive\n",
      "negative negative\n",
      "positive positive\n",
      "positive negative\n",
      "positive positive\n",
      "positive negative\n",
      "positive positive\n",
      "negative negative\n"
     ]
    }
   ],
   "source": [
    "for i in test:\n",
    "    print(simple_sent_analysis(freq_lists, i), test[i])"
   ]
  },
  {
   "cell_type": "markdown",
   "id": "5b7b1255",
   "metadata": {},
   "source": [
    "Подсчёт accuracy"
   ]
  },
  {
   "cell_type": "code",
   "execution_count": 155,
   "id": "c50a44c2",
   "metadata": {},
   "outputs": [
    {
     "name": "stdout",
     "output_type": "stream",
     "text": [
      "Requirement already satisfied: sklearn in c:\\users\\lenovo\\appdata\\local\\programs\\python\\python310\\lib\\site-packages (0.0)\n",
      "Requirement already satisfied: scikit-learn in c:\\users\\lenovo\\appdata\\local\\programs\\python\\python310\\lib\\site-packages (from sklearn) (1.1.2)\n",
      "Requirement already satisfied: threadpoolctl>=2.0.0 in c:\\users\\lenovo\\appdata\\local\\programs\\python\\python310\\lib\\site-packages (from scikit-learn->sklearn) (3.1.0)\n",
      "Requirement already satisfied: numpy>=1.17.3 in c:\\users\\lenovo\\appdata\\local\\programs\\python\\python310\\lib\\site-packages (from scikit-learn->sklearn) (1.23.1)\n",
      "Requirement already satisfied: scipy>=1.3.2 in c:\\users\\lenovo\\appdata\\local\\programs\\python\\python310\\lib\\site-packages (from scikit-learn->sklearn) (1.9.1)\n",
      "Requirement already satisfied: joblib>=1.0.0 in c:\\users\\lenovo\\appdata\\local\\programs\\python\\python310\\lib\\site-packages (from scikit-learn->sklearn) (1.1.0)\n"
     ]
    },
    {
     "name": "stderr",
     "output_type": "stream",
     "text": [
      "WARNING: You are using pip version 22.0.4; however, version 22.2.2 is available.\n",
      "You should consider upgrading via the 'C:\\Users\\Lenovo\\AppData\\Local\\Programs\\Python\\Python310\\python.exe -m pip install --upgrade pip' command.\n"
     ]
    }
   ],
   "source": [
    "!pip install sklearn"
   ]
  },
  {
   "cell_type": "code",
   "execution_count": 156,
   "id": "3493649a",
   "metadata": {},
   "outputs": [],
   "source": [
    "from sklearn.metrics import accuracy_score"
   ]
  },
  {
   "cell_type": "code",
   "execution_count": 157,
   "id": "d827fef9",
   "metadata": {},
   "outputs": [],
   "source": [
    "def test_simple_sent_analysis(freq_lists, test_list):\n",
    "    results = []\n",
    "    gold = []\n",
    "    for tone in freq_lists:\n",
    "        for text in test_list:\n",
    "            predicted_tone = simple_sent_analysis(freq_lists, text)[0][0]\n",
    "            results.append(predicted_tone)\n",
    "            gold.append(test_list[text])\n",
    "    print(\"RESULTS:\")\n",
    "    print(\"Accuracy: %.4f\" % accuracy_score(results, gold))"
   ]
  },
  {
   "cell_type": "code",
   "execution_count": 158,
   "id": "5b53a956",
   "metadata": {},
   "outputs": [
    {
     "name": "stdout",
     "output_type": "stream",
     "text": [
      "RESULTS:\n",
      "Accuracy: 0.6500\n"
     ]
    }
   ],
   "source": [
    "test_simple_tone_detect(freq_lists, test)"
   ]
  }
 ],
 "metadata": {
  "kernelspec": {
   "display_name": "Python 3 (ipykernel)",
   "language": "python",
   "name": "python3"
  },
  "language_info": {
   "codemirror_mode": {
    "name": "ipython",
    "version": 3
   },
   "file_extension": ".py",
   "mimetype": "text/x-python",
   "name": "python",
   "nbconvert_exporter": "python",
   "pygments_lexer": "ipython3",
   "version": "3.10.5"
  }
 },
 "nbformat": 4,
 "nbformat_minor": 5
}
